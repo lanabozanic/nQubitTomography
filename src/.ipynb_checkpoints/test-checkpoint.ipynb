{
 "cells": [
  {
   "cell_type": "code",
   "execution_count": 1,
   "id": "c1710edd",
   "metadata": {},
   "outputs": [],
   "source": [
    "import numpy as np"
   ]
  },
  {
   "cell_type": "code",
   "execution_count": 61,
   "id": "69901328",
   "metadata": {},
   "outputs": [],
   "source": [
    "def generate_basis_states(d):\n",
    "    basis_states = []\n",
    "\n",
    "    for i in range(d):\n",
    "        curr_state = np.array([])\n",
    "        for j in range(d):\n",
    "            #print(i,j)\n",
    "            if i == j:\n",
    "                curr_state = np.append(curr_state, 1)\n",
    "            else:\n",
    "                curr_state = np.append(curr_state, 0)\n",
    "                \n",
    "\n",
    "        \n",
    "        basis_states.append(np.asmatrix(curr_state))\n",
    "        \n",
    "    return basis_states"
   ]
  },
  {
   "cell_type": "code",
   "execution_count": 62,
   "id": "621f447c",
   "metadata": {},
   "outputs": [],
   "source": [
    "curr_state = np.array([])"
   ]
  },
  {
   "cell_type": "code",
   "execution_count": 63,
   "id": "8221bd64",
   "metadata": {},
   "outputs": [
    {
     "data": {
      "text/plain": [
       "array([], dtype=float64)"
      ]
     },
     "execution_count": 63,
     "metadata": {},
     "output_type": "execute_result"
    }
   ],
   "source": [
    "curr_state"
   ]
  },
  {
   "cell_type": "code",
   "execution_count": 66,
   "id": "5c91b952",
   "metadata": {},
   "outputs": [],
   "source": [
    "b = generate_basis_states(3)"
   ]
  },
  {
   "cell_type": "code",
   "execution_count": 68,
   "id": "ae3dc1b6",
   "metadata": {},
   "outputs": [
    {
     "data": {
      "text/plain": [
       "array([[0., 1., 0.],\n",
       "       [0., 0., 0.],\n",
       "       [0., 0., 0.]])"
      ]
     },
     "execution_count": 68,
     "metadata": {},
     "output_type": "execute_result"
    }
   ],
   "source": [
    "np.outer(b[0], b[1])"
   ]
  },
  {
   "cell_type": "code",
   "execution_count": 113,
   "id": "77eaad9e",
   "metadata": {},
   "outputs": [],
   "source": [
    "def generate_gellman(d):\n",
    "    gm_matricies = []\n",
    "    iden = np.identity(d)\n",
    "\n",
    "    basis_states = generate_basis_states(d)\n",
    "    gm_matricies.append(np.asmatrix(iden))\n",
    "\n",
    "\n",
    "\n",
    "    for i in range(d):\n",
    "         for j in range(d):\n",
    "            if j <= i:\n",
    "                 continue\n",
    "            else:\n",
    "                # Generate the pauli X matricies:\n",
    "                curr_x = np.outer(basis_states[i], basis_states[j]) + np.outer(basis_states[j], basis_states[i])\n",
    "                \n",
    "                # Generate the pauli Y matricies:\n",
    "                curr_y = 1j* np.outer(basis_states[i], basis_states[j]) - np.outer(basis_states[j], basis_states[i])\n",
    "                \n",
    "                gm_matricies.append(np.asmatrix(curr_x))\n",
    "                gm_matricies.append(np.asmatrix(curr_y))\n",
    "    \n",
    "    # Generate the Pauli Z matrix\n",
    "    \n",
    "    for r in range(1,d):\n",
    "        curr_z = np.asmatrix(np.zeros((d,d)))\n",
    "        for j in range(0, d-1):\n",
    "            curr_z = curr_z + np.outer(basis_states[j], basis_states[j])\n",
    "            print(curr_z)\n",
    "            \n",
    "        curr_z = np.sqrt(2/(r*(r+1))) * (curr_z - r*np.outer(basis_states[r], basis_states[r]))\n",
    "        gm_matricies.append(curr_z)\n",
    "                \n",
    "    return gm_matricies\n",
    "\n"
   ]
  },
  {
   "cell_type": "code",
   "execution_count": 2,
   "id": "cfcf1a90",
   "metadata": {},
   "outputs": [
    {
     "ename": "NameError",
     "evalue": "name 'generate_gellman' is not defined",
     "output_type": "error",
     "traceback": [
      "\u001b[0;31m---------------------------------------------------------------------------\u001b[0m",
      "\u001b[0;31mNameError\u001b[0m                                 Traceback (most recent call last)",
      "\u001b[0;32m<ipython-input-2-249f321f2e23>\u001b[0m in \u001b[0;36m<module>\u001b[0;34m\u001b[0m\n\u001b[0;32m----> 1\u001b[0;31m \u001b[0mgenerate_gellman\u001b[0m\u001b[0;34m(\u001b[0m\u001b[0;36m2\u001b[0m\u001b[0;34m)\u001b[0m\u001b[0;34m\u001b[0m\u001b[0;34m\u001b[0m\u001b[0m\n\u001b[0m",
      "\u001b[0;31mNameError\u001b[0m: name 'generate_gellman' is not defined"
     ]
    }
   ],
   "source": [
    "generate_gellman(2)"
   ]
  },
  {
   "cell_type": "code",
   "execution_count": 4,
   "id": "0d8f5b17",
   "metadata": {},
   "outputs": [],
   "source": [
    "from tomography import *"
   ]
  },
  {
   "cell_type": "code",
   "execution_count": 5,
   "id": "c3b48630",
   "metadata": {},
   "outputs": [],
   "source": [
    "t = QubitTomo(2)"
   ]
  },
  {
   "cell_type": "code",
   "execution_count": null,
   "id": "4164f744",
   "metadata": {},
   "outputs": [],
   "source": []
  }
 ],
 "metadata": {
  "kernelspec": {
   "display_name": "Python 3",
   "language": "python",
   "name": "python3"
  },
  "language_info": {
   "codemirror_mode": {
    "name": "ipython",
    "version": 3
   },
   "file_extension": ".py",
   "mimetype": "text/x-python",
   "name": "python",
   "nbconvert_exporter": "python",
   "pygments_lexer": "ipython3",
   "version": "3.8.8"
  }
 },
 "nbformat": 4,
 "nbformat_minor": 5
}
